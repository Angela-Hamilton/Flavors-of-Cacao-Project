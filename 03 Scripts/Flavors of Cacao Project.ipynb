{
 "cells": [
  {
   "cell_type": "markdown",
   "id": "a5cd43fb",
   "metadata": {},
   "source": [
    "## Import Libraries\n"
   ]
  },
  {
   "cell_type": "code",
   "execution_count": 1,
   "id": "224c29f9",
   "metadata": {},
   "outputs": [],
   "source": [
    "import pandas as pd\n",
    "import numpy as np\n",
    "import os\n",
    "import matplotlib.pyplot as plt\n",
    "import seaborn as sns\n",
    "import scipy"
   ]
  },
  {
   "cell_type": "code",
   "execution_count": 2,
   "id": "ec7da6eb",
   "metadata": {},
   "outputs": [],
   "source": [
    "# Set Path\n",
    "path=r'C:\\\\\\\\Users\\\\\\\\maad0\\\\\\\\OneDrive\\\\\\\\CAREERFOUNDRY Notes\\\\\\\\Advanced Analytics_Dashboard Design\\\\\\\\11-2023 Final Project'"
   ]
  },
  {
   "cell_type": "code",
   "execution_count": 3,
   "id": "7e55b8ab",
   "metadata": {},
   "outputs": [],
   "source": [
    "# Import flavors_of_cacao.csv\n",
    "df_flavors = pd.read_csv(os.path.join(path, '02 Data', 'Original Data', 'flavors_of_cacao.csv'), index_col = False)"
   ]
  },
  {
   "cell_type": "code",
   "execution_count": 4,
   "id": "26d38709",
   "metadata": {},
   "outputs": [
    {
     "data": {
      "text/html": [
       "<div>\n",
       "<style scoped>\n",
       "    .dataframe tbody tr th:only-of-type {\n",
       "        vertical-align: middle;\n",
       "    }\n",
       "\n",
       "    .dataframe tbody tr th {\n",
       "        vertical-align: top;\n",
       "    }\n",
       "\n",
       "    .dataframe thead th {\n",
       "        text-align: right;\n",
       "    }\n",
       "</style>\n",
       "<table border=\"1\" class=\"dataframe\">\n",
       "  <thead>\n",
       "    <tr style=\"text-align: right;\">\n",
       "      <th></th>\n",
       "      <th>REF</th>\n",
       "      <th>Company\\n(Manufacturer)</th>\n",
       "      <th>Company\\nLocation</th>\n",
       "      <th>Review\\nDate</th>\n",
       "      <th>Country of Bean\\nOrigin</th>\n",
       "      <th>Specific Bean Origin\\nor Bar Name</th>\n",
       "      <th>Cocoa\\nPercent</th>\n",
       "      <th>Rating</th>\n",
       "      <th>Bean\\nType</th>\n",
       "    </tr>\n",
       "  </thead>\n",
       "  <tbody>\n",
       "    <tr>\n",
       "      <th>0</th>\n",
       "      <td>1876</td>\n",
       "      <td>A. Morin</td>\n",
       "      <td>France</td>\n",
       "      <td>2016</td>\n",
       "      <td>Sao Tome</td>\n",
       "      <td>Agua Grande</td>\n",
       "      <td>0.63</td>\n",
       "      <td>3.75</td>\n",
       "      <td></td>\n",
       "    </tr>\n",
       "    <tr>\n",
       "      <th>1</th>\n",
       "      <td>1676</td>\n",
       "      <td>A. Morin</td>\n",
       "      <td>France</td>\n",
       "      <td>2015</td>\n",
       "      <td>Togo</td>\n",
       "      <td>Kpime</td>\n",
       "      <td>0.70</td>\n",
       "      <td>2.75</td>\n",
       "      <td></td>\n",
       "    </tr>\n",
       "    <tr>\n",
       "      <th>2</th>\n",
       "      <td>1676</td>\n",
       "      <td>A. Morin</td>\n",
       "      <td>France</td>\n",
       "      <td>2015</td>\n",
       "      <td>Togo</td>\n",
       "      <td>Atsane</td>\n",
       "      <td>0.70</td>\n",
       "      <td>3.00</td>\n",
       "      <td></td>\n",
       "    </tr>\n",
       "    <tr>\n",
       "      <th>3</th>\n",
       "      <td>1680</td>\n",
       "      <td>A. Morin</td>\n",
       "      <td>France</td>\n",
       "      <td>2015</td>\n",
       "      <td>Togo</td>\n",
       "      <td>Akata</td>\n",
       "      <td>0.70</td>\n",
       "      <td>3.50</td>\n",
       "      <td></td>\n",
       "    </tr>\n",
       "    <tr>\n",
       "      <th>4</th>\n",
       "      <td>1704</td>\n",
       "      <td>A. Morin</td>\n",
       "      <td>France</td>\n",
       "      <td>2015</td>\n",
       "      <td>Peru</td>\n",
       "      <td>Quilla</td>\n",
       "      <td>0.70</td>\n",
       "      <td>3.50</td>\n",
       "      <td></td>\n",
       "    </tr>\n",
       "    <tr>\n",
       "      <th>5</th>\n",
       "      <td>1315</td>\n",
       "      <td>A. Morin</td>\n",
       "      <td>France</td>\n",
       "      <td>2014</td>\n",
       "      <td>Venezuela</td>\n",
       "      <td>Carenero</td>\n",
       "      <td>0.70</td>\n",
       "      <td>2.75</td>\n",
       "      <td>Criollo</td>\n",
       "    </tr>\n",
       "    <tr>\n",
       "      <th>6</th>\n",
       "      <td>1315</td>\n",
       "      <td>A. Morin</td>\n",
       "      <td>France</td>\n",
       "      <td>2014</td>\n",
       "      <td>Cuba</td>\n",
       "      <td>Cuba</td>\n",
       "      <td>0.70</td>\n",
       "      <td>3.50</td>\n",
       "      <td></td>\n",
       "    </tr>\n",
       "    <tr>\n",
       "      <th>7</th>\n",
       "      <td>1315</td>\n",
       "      <td>A. Morin</td>\n",
       "      <td>France</td>\n",
       "      <td>2014</td>\n",
       "      <td>Venezuela</td>\n",
       "      <td>Sur del Lago</td>\n",
       "      <td>0.70</td>\n",
       "      <td>3.50</td>\n",
       "      <td>Criollo</td>\n",
       "    </tr>\n",
       "    <tr>\n",
       "      <th>8</th>\n",
       "      <td>1319</td>\n",
       "      <td>A. Morin</td>\n",
       "      <td>France</td>\n",
       "      <td>2014</td>\n",
       "      <td>Venezuela</td>\n",
       "      <td>Puerto Cabello</td>\n",
       "      <td>0.70</td>\n",
       "      <td>3.75</td>\n",
       "      <td>Criollo</td>\n",
       "    </tr>\n",
       "    <tr>\n",
       "      <th>9</th>\n",
       "      <td>1319</td>\n",
       "      <td>A. Morin</td>\n",
       "      <td>France</td>\n",
       "      <td>2014</td>\n",
       "      <td>Peru</td>\n",
       "      <td>Pablino</td>\n",
       "      <td>0.70</td>\n",
       "      <td>4.00</td>\n",
       "      <td></td>\n",
       "    </tr>\n",
       "    <tr>\n",
       "      <th>10</th>\n",
       "      <td>1011</td>\n",
       "      <td>A. Morin</td>\n",
       "      <td>France</td>\n",
       "      <td>2013</td>\n",
       "      <td>Panama</td>\n",
       "      <td>Panama</td>\n",
       "      <td>0.70</td>\n",
       "      <td>2.75</td>\n",
       "      <td></td>\n",
       "    </tr>\n",
       "    <tr>\n",
       "      <th>11</th>\n",
       "      <td>1011</td>\n",
       "      <td>A. Morin</td>\n",
       "      <td>France</td>\n",
       "      <td>2013</td>\n",
       "      <td>Madagascar</td>\n",
       "      <td>Madagascar</td>\n",
       "      <td>0.70</td>\n",
       "      <td>3.00</td>\n",
       "      <td>Criollo</td>\n",
       "    </tr>\n",
       "    <tr>\n",
       "      <th>12</th>\n",
       "      <td>1011</td>\n",
       "      <td>A. Morin</td>\n",
       "      <td>France</td>\n",
       "      <td>2013</td>\n",
       "      <td>Brazil</td>\n",
       "      <td>Brazil</td>\n",
       "      <td>0.70</td>\n",
       "      <td>3.25</td>\n",
       "      <td></td>\n",
       "    </tr>\n",
       "    <tr>\n",
       "      <th>13</th>\n",
       "      <td>1011</td>\n",
       "      <td>A. Morin</td>\n",
       "      <td>France</td>\n",
       "      <td>2013</td>\n",
       "      <td>Ecuador</td>\n",
       "      <td>Equateur</td>\n",
       "      <td>0.70</td>\n",
       "      <td>3.75</td>\n",
       "      <td></td>\n",
       "    </tr>\n",
       "    <tr>\n",
       "      <th>14</th>\n",
       "      <td>1015</td>\n",
       "      <td>A. Morin</td>\n",
       "      <td>France</td>\n",
       "      <td>2013</td>\n",
       "      <td>Colombia</td>\n",
       "      <td>Colombie</td>\n",
       "      <td>0.70</td>\n",
       "      <td>2.75</td>\n",
       "      <td></td>\n",
       "    </tr>\n",
       "    <tr>\n",
       "      <th>15</th>\n",
       "      <td>1015</td>\n",
       "      <td>A. Morin</td>\n",
       "      <td>France</td>\n",
       "      <td>2013</td>\n",
       "      <td>Burma</td>\n",
       "      <td>Birmanie</td>\n",
       "      <td>0.70</td>\n",
       "      <td>3.00</td>\n",
       "      <td></td>\n",
       "    </tr>\n",
       "    <tr>\n",
       "      <th>16</th>\n",
       "      <td>1015</td>\n",
       "      <td>A. Morin</td>\n",
       "      <td>France</td>\n",
       "      <td>2013</td>\n",
       "      <td>Papua New Guinea</td>\n",
       "      <td>Papua New Guinea</td>\n",
       "      <td>0.70</td>\n",
       "      <td>3.25</td>\n",
       "      <td></td>\n",
       "    </tr>\n",
       "    <tr>\n",
       "      <th>17</th>\n",
       "      <td>1015</td>\n",
       "      <td>A. Morin</td>\n",
       "      <td>France</td>\n",
       "      <td>2013</td>\n",
       "      <td>Venezuela</td>\n",
       "      <td>Chuao</td>\n",
       "      <td>0.70</td>\n",
       "      <td>4.00</td>\n",
       "      <td>Trinitario</td>\n",
       "    </tr>\n",
       "    <tr>\n",
       "      <th>18</th>\n",
       "      <td>1019</td>\n",
       "      <td>A. Morin</td>\n",
       "      <td>France</td>\n",
       "      <td>2013</td>\n",
       "      <td>Peru</td>\n",
       "      <td>Piura</td>\n",
       "      <td>0.70</td>\n",
       "      <td>3.25</td>\n",
       "      <td></td>\n",
       "    </tr>\n",
       "    <tr>\n",
       "      <th>19</th>\n",
       "      <td>1019</td>\n",
       "      <td>A. Morin</td>\n",
       "      <td>France</td>\n",
       "      <td>2013</td>\n",
       "      <td>Peru</td>\n",
       "      <td>Chanchamayo Province</td>\n",
       "      <td>0.70</td>\n",
       "      <td>3.50</td>\n",
       "      <td></td>\n",
       "    </tr>\n",
       "    <tr>\n",
       "      <th>20</th>\n",
       "      <td>1019</td>\n",
       "      <td>A. Morin</td>\n",
       "      <td>France</td>\n",
       "      <td>2013</td>\n",
       "      <td>Peru</td>\n",
       "      <td>Chanchamayo Province</td>\n",
       "      <td>0.63</td>\n",
       "      <td>4.00</td>\n",
       "      <td></td>\n",
       "    </tr>\n",
       "    <tr>\n",
       "      <th>21</th>\n",
       "      <td>797</td>\n",
       "      <td>A. Morin</td>\n",
       "      <td>France</td>\n",
       "      <td>2012</td>\n",
       "      <td>Bolivia</td>\n",
       "      <td>Bolivia</td>\n",
       "      <td>0.70</td>\n",
       "      <td>3.50</td>\n",
       "      <td></td>\n",
       "    </tr>\n",
       "    <tr>\n",
       "      <th>22</th>\n",
       "      <td>797</td>\n",
       "      <td>A. Morin</td>\n",
       "      <td>France</td>\n",
       "      <td>2012</td>\n",
       "      <td>Peru</td>\n",
       "      <td>Peru</td>\n",
       "      <td>0.63</td>\n",
       "      <td>3.75</td>\n",
       "      <td></td>\n",
       "    </tr>\n",
       "    <tr>\n",
       "      <th>23</th>\n",
       "      <td>1462</td>\n",
       "      <td>Acalli</td>\n",
       "      <td>U.S.A.</td>\n",
       "      <td>2015</td>\n",
       "      <td>Peru</td>\n",
       "      <td>Chulucanas, El Platanal</td>\n",
       "      <td>0.70</td>\n",
       "      <td>3.75</td>\n",
       "      <td></td>\n",
       "    </tr>\n",
       "    <tr>\n",
       "      <th>24</th>\n",
       "      <td>1470</td>\n",
       "      <td>Acalli</td>\n",
       "      <td>U.S.A.</td>\n",
       "      <td>2015</td>\n",
       "      <td>Peru</td>\n",
       "      <td>Tumbes, Norandino</td>\n",
       "      <td>0.70</td>\n",
       "      <td>3.75</td>\n",
       "      <td>Criollo</td>\n",
       "    </tr>\n",
       "  </tbody>\n",
       "</table>\n",
       "</div>"
      ],
      "text/plain": [
       "     REF Company\\n(Manufacturer) Company\\nLocation  Review\\nDate  \\\n",
       "0   1876                A. Morin            France          2016   \n",
       "1   1676                A. Morin            France          2015   \n",
       "2   1676                A. Morin            France          2015   \n",
       "3   1680                A. Morin            France          2015   \n",
       "4   1704                A. Morin            France          2015   \n",
       "5   1315                A. Morin            France          2014   \n",
       "6   1315                A. Morin            France          2014   \n",
       "7   1315                A. Morin            France          2014   \n",
       "8   1319                A. Morin            France          2014   \n",
       "9   1319                A. Morin            France          2014   \n",
       "10  1011                A. Morin            France          2013   \n",
       "11  1011                A. Morin            France          2013   \n",
       "12  1011                A. Morin            France          2013   \n",
       "13  1011                A. Morin            France          2013   \n",
       "14  1015                A. Morin            France          2013   \n",
       "15  1015                A. Morin            France          2013   \n",
       "16  1015                A. Morin            France          2013   \n",
       "17  1015                A. Morin            France          2013   \n",
       "18  1019                A. Morin            France          2013   \n",
       "19  1019                A. Morin            France          2013   \n",
       "20  1019                A. Morin            France          2013   \n",
       "21   797                A. Morin            France          2012   \n",
       "22   797                A. Morin            France          2012   \n",
       "23  1462                  Acalli            U.S.A.          2015   \n",
       "24  1470                  Acalli            U.S.A.          2015   \n",
       "\n",
       "   Country of Bean\\nOrigin Specific Bean Origin\\nor Bar Name  Cocoa\\nPercent  \\\n",
       "0                 Sao Tome                       Agua Grande            0.63   \n",
       "1                     Togo                             Kpime            0.70   \n",
       "2                     Togo                            Atsane            0.70   \n",
       "3                     Togo                             Akata            0.70   \n",
       "4                     Peru                            Quilla            0.70   \n",
       "5                Venezuela                          Carenero            0.70   \n",
       "6                     Cuba                              Cuba            0.70   \n",
       "7                Venezuela                      Sur del Lago            0.70   \n",
       "8                Venezuela                    Puerto Cabello            0.70   \n",
       "9                     Peru                           Pablino            0.70   \n",
       "10                  Panama                            Panama            0.70   \n",
       "11              Madagascar                        Madagascar            0.70   \n",
       "12                  Brazil                            Brazil            0.70   \n",
       "13                 Ecuador                          Equateur            0.70   \n",
       "14                Colombia                          Colombie            0.70   \n",
       "15                   Burma                          Birmanie            0.70   \n",
       "16        Papua New Guinea                  Papua New Guinea            0.70   \n",
       "17               Venezuela                             Chuao            0.70   \n",
       "18                    Peru                             Piura            0.70   \n",
       "19                    Peru              Chanchamayo Province            0.70   \n",
       "20                    Peru              Chanchamayo Province            0.63   \n",
       "21                 Bolivia                           Bolivia            0.70   \n",
       "22                    Peru                              Peru            0.63   \n",
       "23                    Peru           Chulucanas, El Platanal            0.70   \n",
       "24                    Peru                 Tumbes, Norandino            0.70   \n",
       "\n",
       "    Rating  Bean\\nType  \n",
       "0     3.75              \n",
       "1     2.75              \n",
       "2     3.00              \n",
       "3     3.50              \n",
       "4     3.50              \n",
       "5     2.75     Criollo  \n",
       "6     3.50              \n",
       "7     3.50     Criollo  \n",
       "8     3.75     Criollo  \n",
       "9     4.00              \n",
       "10    2.75              \n",
       "11    3.00     Criollo  \n",
       "12    3.25              \n",
       "13    3.75              \n",
       "14    2.75              \n",
       "15    3.00              \n",
       "16    3.25              \n",
       "17    4.00  Trinitario  \n",
       "18    3.25              \n",
       "19    3.50              \n",
       "20    4.00              \n",
       "21    3.50              \n",
       "22    3.75              \n",
       "23    3.75              \n",
       "24    3.75     Criollo  "
      ]
     },
     "execution_count": 4,
     "metadata": {},
     "output_type": "execute_result"
    }
   ],
   "source": [
    "# Checking dataframe \n",
    "df_flavors.head(25)"
   ]
  },
  {
   "cell_type": "markdown",
   "id": "a16618da",
   "metadata": {},
   "source": [
    "## Data Wrangling"
   ]
  },
  {
   "cell_type": "code",
   "execution_count": 5,
   "id": "f56dcb6a",
   "metadata": {},
   "outputs": [],
   "source": [
    "# Rename Column \n",
    "df_flavors.rename(columns = {'REF' : 'reference_number'}, inplace = True)\n"
   ]
  },
  {
   "cell_type": "code",
   "execution_count": 6,
   "id": "9b490488",
   "metadata": {},
   "outputs": [],
   "source": [
    "# Rename Column \n",
    "df_flavors.rename(columns = {'Company\\n(Manufacturer)' : 'company_manufacturer'}, inplace = True)"
   ]
  },
  {
   "cell_type": "code",
   "execution_count": 7,
   "id": "186de00d",
   "metadata": {},
   "outputs": [],
   "source": [
    "# Rename Column \n",
    "df_flavors.rename(columns = {'Company\\nLocation' : 'company_location'}, inplace = True)"
   ]
  },
  {
   "cell_type": "code",
   "execution_count": 8,
   "id": "052aa11c",
   "metadata": {},
   "outputs": [],
   "source": [
    "# Rename Column \n",
    "df_flavors.rename(columns = {'Review\\nDate' : 'review_date'}, inplace = True)"
   ]
  },
  {
   "cell_type": "code",
   "execution_count": 9,
   "id": "92e8f3e1",
   "metadata": {},
   "outputs": [],
   "source": [
    "# Rename Column \n",
    "df_flavors.rename(columns = {'Country of Bean\\nOrigin' : 'bean_origin'}, inplace = True)"
   ]
  },
  {
   "cell_type": "code",
   "execution_count": 10,
   "id": "7865e30e",
   "metadata": {},
   "outputs": [],
   "source": [
    "# Rename Column \n",
    "df_flavors.rename(columns = {'Specific Bean Origin\\nor Bar Name' : 'bar_name'}, inplace = True)"
   ]
  },
  {
   "cell_type": "code",
   "execution_count": 11,
   "id": "8c0e334f",
   "metadata": {},
   "outputs": [],
   "source": [
    "# Rename Column \n",
    "df_flavors.rename(columns = {'Cocoa\\nPercent' : 'cocoa_percent'}, inplace = True)"
   ]
  },
  {
   "cell_type": "code",
   "execution_count": 12,
   "id": "702ff9ed",
   "metadata": {},
   "outputs": [],
   "source": [
    "# Rename Column \n",
    "df_flavors.rename(columns = {'Rating' : 'rating'}, inplace = True)"
   ]
  },
  {
   "cell_type": "code",
   "execution_count": 13,
   "id": "bbb26e1b",
   "metadata": {},
   "outputs": [],
   "source": [
    "# Rename Column \n",
    "df_flavors.rename(columns = {'Bean\\nType' : 'bean_type'}, inplace = True)"
   ]
  },
  {
   "cell_type": "code",
   "execution_count": 14,
   "id": "ecce5fe3",
   "metadata": {},
   "outputs": [
    {
     "data": {
      "text/plain": [
       "Index(['reference_number', 'company_manufacturer', 'company_location',\n",
       "       'review_date', 'bean_origin', 'bar_name', 'cocoa_percent', 'rating',\n",
       "       'bean_type'],\n",
       "      dtype='object')"
      ]
     },
     "execution_count": 14,
     "metadata": {},
     "output_type": "execute_result"
    }
   ],
   "source": [
    "# Validating column name changes\n",
    "df_flavors.columns"
   ]
  },
  {
   "cell_type": "code",
   "execution_count": 15,
   "id": "446a383f",
   "metadata": {},
   "outputs": [
    {
     "name": "stdout",
     "output_type": "stream",
     "text": [
      "<class 'pandas.core.frame.DataFrame'>\n",
      "RangeIndex: 1795 entries, 0 to 1794\n",
      "Data columns (total 9 columns):\n",
      " #   Column                Non-Null Count  Dtype  \n",
      "---  ------                --------------  -----  \n",
      " 0   reference_number      1795 non-null   int64  \n",
      " 1   company_manufacturer  1795 non-null   object \n",
      " 2   company_location      1795 non-null   object \n",
      " 3   review_date           1795 non-null   int64  \n",
      " 4   bean_origin           1794 non-null   object \n",
      " 5   bar_name              1795 non-null   object \n",
      " 6   cocoa_percent         1795 non-null   float64\n",
      " 7   rating                1795 non-null   float64\n",
      " 8   bean_type             1794 non-null   object \n",
      "dtypes: float64(2), int64(2), object(5)\n",
      "memory usage: 126.3+ KB\n"
     ]
    }
   ],
   "source": [
    "# Check dataframe data \n",
    "df_flavors.info()"
   ]
  },
  {
   "cell_type": "code",
   "execution_count": 16,
   "id": "9abd0ba5",
   "metadata": {},
   "outputs": [],
   "source": [
    "# Change a variable data type\n",
    "df_flavors['reference_number'] = df_flavors['reference_number'].astype('str')"
   ]
  },
  {
   "cell_type": "code",
   "execution_count": 17,
   "id": "edef849e",
   "metadata": {},
   "outputs": [
    {
     "data": {
      "text/plain": [
       "reference_number         object\n",
       "company_manufacturer     object\n",
       "company_location         object\n",
       "review_date               int64\n",
       "bean_origin              object\n",
       "bar_name                 object\n",
       "cocoa_percent           float64\n",
       "rating                  float64\n",
       "bean_type                object\n",
       "dtype: object"
      ]
     },
     "execution_count": 17,
     "metadata": {},
     "output_type": "execute_result"
    }
   ],
   "source": [
    "# Checking results \n",
    "df_flavors.dtypes"
   ]
  },
  {
   "cell_type": "markdown",
   "id": "34c4022a",
   "metadata": {},
   "source": [
    "## Data Consistency Check"
   ]
  },
  {
   "cell_type": "code",
   "execution_count": 18,
   "id": "86f1aff2",
   "metadata": {},
   "outputs": [
    {
     "data": {
      "text/html": [
       "<div>\n",
       "<style scoped>\n",
       "    .dataframe tbody tr th:only-of-type {\n",
       "        vertical-align: middle;\n",
       "    }\n",
       "\n",
       "    .dataframe tbody tr th {\n",
       "        vertical-align: top;\n",
       "    }\n",
       "\n",
       "    .dataframe thead th {\n",
       "        text-align: right;\n",
       "    }\n",
       "</style>\n",
       "<table border=\"1\" class=\"dataframe\">\n",
       "  <thead>\n",
       "    <tr style=\"text-align: right;\">\n",
       "      <th></th>\n",
       "      <th>review_date</th>\n",
       "      <th>cocoa_percent</th>\n",
       "      <th>rating</th>\n",
       "    </tr>\n",
       "  </thead>\n",
       "  <tbody>\n",
       "    <tr>\n",
       "      <th>count</th>\n",
       "      <td>1795.000000</td>\n",
       "      <td>1795.000000</td>\n",
       "      <td>1795.000000</td>\n",
       "    </tr>\n",
       "    <tr>\n",
       "      <th>mean</th>\n",
       "      <td>2012.325348</td>\n",
       "      <td>0.717003</td>\n",
       "      <td>3.185933</td>\n",
       "    </tr>\n",
       "    <tr>\n",
       "      <th>std</th>\n",
       "      <td>2.927210</td>\n",
       "      <td>0.063230</td>\n",
       "      <td>0.478062</td>\n",
       "    </tr>\n",
       "    <tr>\n",
       "      <th>min</th>\n",
       "      <td>2006.000000</td>\n",
       "      <td>0.420000</td>\n",
       "      <td>1.000000</td>\n",
       "    </tr>\n",
       "    <tr>\n",
       "      <th>25%</th>\n",
       "      <td>2010.000000</td>\n",
       "      <td>0.700000</td>\n",
       "      <td>2.875000</td>\n",
       "    </tr>\n",
       "    <tr>\n",
       "      <th>50%</th>\n",
       "      <td>2013.000000</td>\n",
       "      <td>0.700000</td>\n",
       "      <td>3.250000</td>\n",
       "    </tr>\n",
       "    <tr>\n",
       "      <th>75%</th>\n",
       "      <td>2015.000000</td>\n",
       "      <td>0.750000</td>\n",
       "      <td>3.500000</td>\n",
       "    </tr>\n",
       "    <tr>\n",
       "      <th>max</th>\n",
       "      <td>2017.000000</td>\n",
       "      <td>1.000000</td>\n",
       "      <td>5.000000</td>\n",
       "    </tr>\n",
       "  </tbody>\n",
       "</table>\n",
       "</div>"
      ],
      "text/plain": [
       "       review_date  cocoa_percent       rating\n",
       "count  1795.000000    1795.000000  1795.000000\n",
       "mean   2012.325348       0.717003     3.185933\n",
       "std       2.927210       0.063230     0.478062\n",
       "min    2006.000000       0.420000     1.000000\n",
       "25%    2010.000000       0.700000     2.875000\n",
       "50%    2013.000000       0.700000     3.250000\n",
       "75%    2015.000000       0.750000     3.500000\n",
       "max    2017.000000       1.000000     5.000000"
      ]
     },
     "execution_count": 18,
     "metadata": {},
     "output_type": "execute_result"
    }
   ],
   "source": [
    "# Perform statistical analysis on dataframe\n",
    "df_flavors.describe()"
   ]
  },
  {
   "cell_type": "markdown",
   "id": "da5eeb29",
   "metadata": {},
   "source": [
    "#### Nothing in the df_flavors dataframe looks strange."
   ]
  },
  {
   "cell_type": "code",
   "execution_count": 19,
   "id": "5df39d6e",
   "metadata": {},
   "outputs": [
    {
     "name": "stdout",
     "output_type": "stream",
     "text": [
      "bean_origin\n",
      "bean_type\n"
     ]
    }
   ],
   "source": [
    "# Checking for mixed-type columns\n",
    "for col in df_flavors.columns.tolist():\n",
    "    weird = (df_flavors[[col]].applymap(type) != df_flavors[[col]].iloc[0].apply(type)).any(axis = 1)\n",
    "    if len (df_flavors[weird]) > 0:\n",
    "        print (col)\n"
   ]
  },
  {
   "cell_type": "markdown",
   "id": "0cc99a4b",
   "metadata": {},
   "source": [
    "#### bean_origin and bean_type columns has mixed data \n",
    "#### names and numbers are reflected ## these columns contains mostly names## the datatype will remain astype 'string'"
   ]
  },
  {
   "cell_type": "code",
   "execution_count": 20,
   "id": "c8e6851d",
   "metadata": {},
   "outputs": [
    {
     "data": {
      "text/plain": [
       "reference_number        0\n",
       "company_manufacturer    0\n",
       "company_location        0\n",
       "review_date             0\n",
       "bean_origin             1\n",
       "bar_name                0\n",
       "cocoa_percent           0\n",
       "rating                  0\n",
       "bean_type               1\n",
       "dtype: int64"
      ]
     },
     "execution_count": 20,
     "metadata": {},
     "output_type": "execute_result"
    }
   ],
   "source": [
    "# Checking for Missing Values\n",
    "df_flavors.isnull().sum()"
   ]
  },
  {
   "cell_type": "code",
   "execution_count": 21,
   "id": "9b3723cd",
   "metadata": {},
   "outputs": [],
   "source": [
    "# Creating dataframe to see missing values\n",
    "df_nan = df_flavors[df_flavors['bean_origin'].isnull() == True]\n"
   ]
  },
  {
   "cell_type": "code",
   "execution_count": 22,
   "id": "68513b90",
   "metadata": {},
   "outputs": [
    {
     "data": {
      "text/html": [
       "<div>\n",
       "<style scoped>\n",
       "    .dataframe tbody tr th:only-of-type {\n",
       "        vertical-align: middle;\n",
       "    }\n",
       "\n",
       "    .dataframe tbody tr th {\n",
       "        vertical-align: top;\n",
       "    }\n",
       "\n",
       "    .dataframe thead th {\n",
       "        text-align: right;\n",
       "    }\n",
       "</style>\n",
       "<table border=\"1\" class=\"dataframe\">\n",
       "  <thead>\n",
       "    <tr style=\"text-align: right;\">\n",
       "      <th></th>\n",
       "      <th>reference_number</th>\n",
       "      <th>company_manufacturer</th>\n",
       "      <th>company_location</th>\n",
       "      <th>review_date</th>\n",
       "      <th>bean_origin</th>\n",
       "      <th>bar_name</th>\n",
       "      <th>cocoa_percent</th>\n",
       "      <th>rating</th>\n",
       "      <th>bean_type</th>\n",
       "    </tr>\n",
       "  </thead>\n",
       "  <tbody>\n",
       "    <tr>\n",
       "      <th>1072</th>\n",
       "      <td>999</td>\n",
       "      <td>Mast Brothers</td>\n",
       "      <td>U.S.A.</td>\n",
       "      <td>2012</td>\n",
       "      <td>NaN</td>\n",
       "      <td>Madagascar</td>\n",
       "      <td>0.72</td>\n",
       "      <td>2.5</td>\n",
       "      <td>Trinitario</td>\n",
       "    </tr>\n",
       "  </tbody>\n",
       "</table>\n",
       "</div>"
      ],
      "text/plain": [
       "     reference_number company_manufacturer company_location  review_date  \\\n",
       "1072              999        Mast Brothers           U.S.A.         2012   \n",
       "\n",
       "     bean_origin    bar_name  cocoa_percent  rating   bean_type  \n",
       "1072         NaN  Madagascar           0.72     2.5  Trinitario  "
      ]
     },
     "execution_count": 22,
     "metadata": {},
     "output_type": "execute_result"
    }
   ],
   "source": [
    "df_nan"
   ]
  },
  {
   "cell_type": "code",
   "execution_count": 23,
   "id": "07b113e3",
   "metadata": {},
   "outputs": [],
   "source": [
    "# Creating dataframe to see missing values\n",
    "df_nan = df_flavors[df_flavors['bean_type'].isnull() == True]"
   ]
  },
  {
   "cell_type": "code",
   "execution_count": 24,
   "id": "09b58371",
   "metadata": {},
   "outputs": [
    {
     "data": {
      "text/html": [
       "<div>\n",
       "<style scoped>\n",
       "    .dataframe tbody tr th:only-of-type {\n",
       "        vertical-align: middle;\n",
       "    }\n",
       "\n",
       "    .dataframe tbody tr th {\n",
       "        vertical-align: top;\n",
       "    }\n",
       "\n",
       "    .dataframe thead th {\n",
       "        text-align: right;\n",
       "    }\n",
       "</style>\n",
       "<table border=\"1\" class=\"dataframe\">\n",
       "  <thead>\n",
       "    <tr style=\"text-align: right;\">\n",
       "      <th></th>\n",
       "      <th>reference_number</th>\n",
       "      <th>company_manufacturer</th>\n",
       "      <th>company_location</th>\n",
       "      <th>review_date</th>\n",
       "      <th>bean_origin</th>\n",
       "      <th>bar_name</th>\n",
       "      <th>cocoa_percent</th>\n",
       "      <th>rating</th>\n",
       "      <th>bean_type</th>\n",
       "    </tr>\n",
       "  </thead>\n",
       "  <tbody>\n",
       "    <tr>\n",
       "      <th>1544</th>\n",
       "      <td>676</td>\n",
       "      <td>Soma</td>\n",
       "      <td>Canada</td>\n",
       "      <td>2011</td>\n",
       "      <td>Ven, Bolivia, D.R.</td>\n",
       "      <td>Three Amigos(Chuao, Wild Bolivia, D.R.)</td>\n",
       "      <td>0.7</td>\n",
       "      <td>4.0</td>\n",
       "      <td>NaN</td>\n",
       "    </tr>\n",
       "  </tbody>\n",
       "</table>\n",
       "</div>"
      ],
      "text/plain": [
       "     reference_number company_manufacturer company_location  review_date  \\\n",
       "1544              676                 Soma           Canada         2011   \n",
       "\n",
       "             bean_origin                                 bar_name  \\\n",
       "1544  Ven, Bolivia, D.R.  Three Amigos(Chuao, Wild Bolivia, D.R.)   \n",
       "\n",
       "      cocoa_percent  rating bean_type  \n",
       "1544            0.7     4.0       NaN  "
      ]
     },
     "execution_count": 24,
     "metadata": {},
     "output_type": "execute_result"
    }
   ],
   "source": [
    "df_nan"
   ]
  },
  {
   "cell_type": "markdown",
   "id": "6a90dac7",
   "metadata": {},
   "source": [
    "#### Missing values are minimal- not addressing.  "
   ]
  },
  {
   "cell_type": "code",
   "execution_count": 25,
   "id": "badfdb2f",
   "metadata": {},
   "outputs": [],
   "source": [
    "# Checking for Duplicates\n",
    "df_dups = df_flavors[df_flavors.duplicated()]"
   ]
  },
  {
   "cell_type": "code",
   "execution_count": 26,
   "id": "21ad08ff",
   "metadata": {},
   "outputs": [
    {
     "data": {
      "text/html": [
       "<div>\n",
       "<style scoped>\n",
       "    .dataframe tbody tr th:only-of-type {\n",
       "        vertical-align: middle;\n",
       "    }\n",
       "\n",
       "    .dataframe tbody tr th {\n",
       "        vertical-align: top;\n",
       "    }\n",
       "\n",
       "    .dataframe thead th {\n",
       "        text-align: right;\n",
       "    }\n",
       "</style>\n",
       "<table border=\"1\" class=\"dataframe\">\n",
       "  <thead>\n",
       "    <tr style=\"text-align: right;\">\n",
       "      <th></th>\n",
       "      <th>reference_number</th>\n",
       "      <th>company_manufacturer</th>\n",
       "      <th>company_location</th>\n",
       "      <th>review_date</th>\n",
       "      <th>bean_origin</th>\n",
       "      <th>bar_name</th>\n",
       "      <th>cocoa_percent</th>\n",
       "      <th>rating</th>\n",
       "      <th>bean_type</th>\n",
       "    </tr>\n",
       "  </thead>\n",
       "  <tbody>\n",
       "  </tbody>\n",
       "</table>\n",
       "</div>"
      ],
      "text/plain": [
       "Empty DataFrame\n",
       "Columns: [reference_number, company_manufacturer, company_location, review_date, bean_origin, bar_name, cocoa_percent, rating, bean_type]\n",
       "Index: []"
      ]
     },
     "execution_count": 26,
     "metadata": {},
     "output_type": "execute_result"
    }
   ],
   "source": [
    "# Checking results\n",
    "df_dups"
   ]
  },
  {
   "cell_type": "markdown",
   "id": "0920286c",
   "metadata": {},
   "source": [
    "#### No duplicates found in dataset"
   ]
  },
  {
   "cell_type": "markdown",
   "id": "7e4202f0",
   "metadata": {},
   "source": [
    "#### Deriving New Variables"
   ]
  },
  {
   "cell_type": "code",
   "execution_count": 27,
   "id": "8c947bc0",
   "metadata": {},
   "outputs": [],
   "source": [
    "# Defining Rating Metrics\n",
    "def rating_metrics(row):\n",
    "    if row['rating'] >= 5:\n",
    "        return 'Elite'\n",
    "    elif (row['rating'] == 4):\n",
    "        return 'Premium'\n",
    "    elif (row['rating'] >= 3):\n",
    "        return 'Satisfactory'\n",
    "    elif (row['rating'] >= 3.75):\n",
    "        return 'Praiseworthy'\n",
    "    elif (row['rating'] <= 2.75) and (row['rating'] >=2):\n",
    "        return 'Disappointing'\n",
    "    elif (row['rating'] <= 1.75) and (row['rating'] >=1):\n",
    "        return 'Unpleasant'"
   ]
  },
  {
   "cell_type": "code",
   "execution_count": 28,
   "id": "58a5dd25",
   "metadata": {},
   "outputs": [],
   "source": [
    "# Apply the function\n",
    "df_flavors['rating_metrics'] = df_flavors.apply(rating_metrics, axis=1)"
   ]
  },
  {
   "cell_type": "code",
   "execution_count": 29,
   "id": "c2dac427",
   "metadata": {},
   "outputs": [
    {
     "data": {
      "text/plain": [
       "Satisfactory     1246\n",
       "Disappointing     432\n",
       "Premium            98\n",
       "Unpleasant         17\n",
       "Elite               2\n",
       "Name: rating_metrics, dtype: int64"
      ]
     },
     "execution_count": 29,
     "metadata": {},
     "output_type": "execute_result"
    }
   ],
   "source": [
    "# Checking values\n",
    "df_flavors['rating_metrics'].value_counts(dropna = False)"
   ]
  },
  {
   "cell_type": "code",
   "execution_count": 30,
   "id": "f912440d",
   "metadata": {},
   "outputs": [
    {
     "data": {
      "text/plain": [
       "(1795, 10)"
      ]
     },
     "execution_count": 30,
     "metadata": {},
     "output_type": "execute_result"
    }
   ],
   "source": [
    "# Check dataset before exporting\n",
    "df_flavors.shape"
   ]
  },
  {
   "cell_type": "code",
   "execution_count": 31,
   "id": "aed80ba4",
   "metadata": {},
   "outputs": [
    {
     "name": "stdout",
     "output_type": "stream",
     "text": [
      "<class 'pandas.core.frame.DataFrame'>\n",
      "RangeIndex: 1795 entries, 0 to 1794\n",
      "Data columns (total 10 columns):\n",
      " #   Column                Non-Null Count  Dtype  \n",
      "---  ------                --------------  -----  \n",
      " 0   reference_number      1795 non-null   object \n",
      " 1   company_manufacturer  1795 non-null   object \n",
      " 2   company_location      1795 non-null   object \n",
      " 3   review_date           1795 non-null   int64  \n",
      " 4   bean_origin           1794 non-null   object \n",
      " 5   bar_name              1795 non-null   object \n",
      " 6   cocoa_percent         1795 non-null   float64\n",
      " 7   rating                1795 non-null   float64\n",
      " 8   bean_type             1794 non-null   object \n",
      " 9   rating_metrics        1795 non-null   object \n",
      "dtypes: float64(2), int64(1), object(7)\n",
      "memory usage: 140.4+ KB\n"
     ]
    }
   ],
   "source": [
    "# Check dataframe\n",
    "df_flavors.info()"
   ]
  },
  {
   "cell_type": "code",
   "execution_count": 32,
   "id": "22ceea03",
   "metadata": {},
   "outputs": [
    {
     "data": {
      "text/html": [
       "<div>\n",
       "<style scoped>\n",
       "    .dataframe tbody tr th:only-of-type {\n",
       "        vertical-align: middle;\n",
       "    }\n",
       "\n",
       "    .dataframe tbody tr th {\n",
       "        vertical-align: top;\n",
       "    }\n",
       "\n",
       "    .dataframe thead th {\n",
       "        text-align: right;\n",
       "    }\n",
       "</style>\n",
       "<table border=\"1\" class=\"dataframe\">\n",
       "  <thead>\n",
       "    <tr style=\"text-align: right;\">\n",
       "      <th></th>\n",
       "      <th>reference_number</th>\n",
       "      <th>company_manufacturer</th>\n",
       "      <th>company_location</th>\n",
       "      <th>review_date</th>\n",
       "      <th>bean_origin</th>\n",
       "      <th>bar_name</th>\n",
       "      <th>cocoa_percent</th>\n",
       "      <th>rating</th>\n",
       "      <th>bean_type</th>\n",
       "      <th>rating_metrics</th>\n",
       "    </tr>\n",
       "  </thead>\n",
       "  <tbody>\n",
       "    <tr>\n",
       "      <th>0</th>\n",
       "      <td>1876</td>\n",
       "      <td>A. Morin</td>\n",
       "      <td>France</td>\n",
       "      <td>2016</td>\n",
       "      <td>Sao Tome</td>\n",
       "      <td>Agua Grande</td>\n",
       "      <td>0.63</td>\n",
       "      <td>3.75</td>\n",
       "      <td></td>\n",
       "      <td>Satisfactory</td>\n",
       "    </tr>\n",
       "    <tr>\n",
       "      <th>1</th>\n",
       "      <td>1676</td>\n",
       "      <td>A. Morin</td>\n",
       "      <td>France</td>\n",
       "      <td>2015</td>\n",
       "      <td>Togo</td>\n",
       "      <td>Kpime</td>\n",
       "      <td>0.70</td>\n",
       "      <td>2.75</td>\n",
       "      <td></td>\n",
       "      <td>Disappointing</td>\n",
       "    </tr>\n",
       "    <tr>\n",
       "      <th>2</th>\n",
       "      <td>1676</td>\n",
       "      <td>A. Morin</td>\n",
       "      <td>France</td>\n",
       "      <td>2015</td>\n",
       "      <td>Togo</td>\n",
       "      <td>Atsane</td>\n",
       "      <td>0.70</td>\n",
       "      <td>3.00</td>\n",
       "      <td></td>\n",
       "      <td>Satisfactory</td>\n",
       "    </tr>\n",
       "    <tr>\n",
       "      <th>3</th>\n",
       "      <td>1680</td>\n",
       "      <td>A. Morin</td>\n",
       "      <td>France</td>\n",
       "      <td>2015</td>\n",
       "      <td>Togo</td>\n",
       "      <td>Akata</td>\n",
       "      <td>0.70</td>\n",
       "      <td>3.50</td>\n",
       "      <td></td>\n",
       "      <td>Satisfactory</td>\n",
       "    </tr>\n",
       "    <tr>\n",
       "      <th>4</th>\n",
       "      <td>1704</td>\n",
       "      <td>A. Morin</td>\n",
       "      <td>France</td>\n",
       "      <td>2015</td>\n",
       "      <td>Peru</td>\n",
       "      <td>Quilla</td>\n",
       "      <td>0.70</td>\n",
       "      <td>3.50</td>\n",
       "      <td></td>\n",
       "      <td>Satisfactory</td>\n",
       "    </tr>\n",
       "  </tbody>\n",
       "</table>\n",
       "</div>"
      ],
      "text/plain": [
       "  reference_number company_manufacturer company_location  review_date  \\\n",
       "0             1876             A. Morin           France         2016   \n",
       "1             1676             A. Morin           France         2015   \n",
       "2             1676             A. Morin           France         2015   \n",
       "3             1680             A. Morin           France         2015   \n",
       "4             1704             A. Morin           France         2015   \n",
       "\n",
       "  bean_origin     bar_name  cocoa_percent  rating bean_type rating_metrics  \n",
       "0    Sao Tome  Agua Grande           0.63    3.75             Satisfactory  \n",
       "1        Togo        Kpime           0.70    2.75            Disappointing  \n",
       "2        Togo       Atsane           0.70    3.00             Satisfactory  \n",
       "3        Togo        Akata           0.70    3.50             Satisfactory  \n",
       "4        Peru       Quilla           0.70    3.50             Satisfactory  "
      ]
     },
     "execution_count": 32,
     "metadata": {},
     "output_type": "execute_result"
    }
   ],
   "source": [
    "# Check dataframe head\n",
    "df_flavors.head()"
   ]
  },
  {
   "cell_type": "code",
   "execution_count": 34,
   "id": "f20ae0d3",
   "metadata": {},
   "outputs": [],
   "source": [
    "# Export df_flavors as flavors_checked\n",
    "df_flavors.to_csv(os.path.join(path, '02 Data', 'Prepared Data', 'flavors_checked.csv'))"
   ]
  },
  {
   "cell_type": "code",
   "execution_count": null,
   "id": "d6d1ca23",
   "metadata": {},
   "outputs": [],
   "source": []
  }
 ],
 "metadata": {
  "kernelspec": {
   "display_name": "Python 3 (ipykernel)",
   "language": "python",
   "name": "python3"
  },
  "language_info": {
   "codemirror_mode": {
    "name": "ipython",
    "version": 3
   },
   "file_extension": ".py",
   "mimetype": "text/x-python",
   "name": "python",
   "nbconvert_exporter": "python",
   "pygments_lexer": "ipython3",
   "version": "3.11.3"
  }
 },
 "nbformat": 4,
 "nbformat_minor": 5
}
